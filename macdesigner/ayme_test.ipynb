{
 "cells": [
  {
   "cell_type": "code",
   "execution_count": 1,
   "metadata": {},
   "outputs": [
    {
     "ename": "ModuleNotFoundError",
     "evalue": "No module named 'macdesigner.macdesigner'; 'macdesigner' is not a package",
     "output_type": "error",
     "traceback": [
      "\u001b[1;31m---------------------------------------------------------------------------\u001b[0m",
      "\u001b[1;31mModuleNotFoundError\u001b[0m                       Traceback (most recent call last)",
      "\u001b[1;32mc:\\Users\\jmmau\\workspace\\usemac\\macdesigner\\macdesigner\\ayme_test.ipynb Cell 1\u001b[0m line \u001b[0;36m1\n\u001b[1;32m----> <a href='vscode-notebook-cell:/c%3A/Users/jmmau/workspace/usemac/macdesigner/macdesigner/ayme_test.ipynb#W1sZmlsZQ%3D%3D?line=0'>1</a>\u001b[0m \u001b[39mfrom\u001b[39;00m \u001b[39mmacdesigner\u001b[39;00m\u001b[39m.\u001b[39;00m\u001b[39mmacdesigner\u001b[39;00m \u001b[39mimport\u001b[39;00m spm_designer\n",
      "\u001b[1;31mModuleNotFoundError\u001b[0m: No module named 'macdesigner.macdesigner'; 'macdesigner' is not a package"
     ]
    }
   ],
   "source": [
    "from macdesigner.macdesigner import spm_designer"
   ]
  },
  {
   "cell_type": "code",
   "execution_count": 3,
   "metadata": {},
   "outputs": [],
   "source": [
    "import macdesigner"
   ]
  },
  {
   "cell_type": "code",
   "execution_count": 4,
   "metadata": {},
   "outputs": [
    {
     "ename": "AttributeError",
     "evalue": "module 'macdesigner' has no attribute '__version__'",
     "output_type": "error",
     "traceback": [
      "\u001b[1;31m---------------------------------------------------------------------------\u001b[0m",
      "\u001b[1;31mAttributeError\u001b[0m                            Traceback (most recent call last)",
      "\u001b[1;32mc:\\Users\\jmmau\\workspace\\usemac\\macdesigner\\macdesigner\\ayme_test.ipynb Cell 3\u001b[0m line \u001b[0;36m1\n\u001b[1;32m----> <a href='vscode-notebook-cell:/c%3A/Users/jmmau/workspace/usemac/macdesigner/macdesigner/ayme_test.ipynb#W2sZmlsZQ%3D%3D?line=0'>1</a>\u001b[0m macdesigner\u001b[39m.\u001b[39m__version__\n",
      "\u001b[1;31mAttributeError\u001b[0m: module 'macdesigner' has no attribute '__version__'"
     ]
    }
   ],
   "source": [
    "macdesigner.__version__"
   ]
  },
  {
   "cell_type": "code",
   "execution_count": null,
   "metadata": {},
   "outputs": [],
   "source": []
  }
 ],
 "metadata": {
  "kernelspec": {
   "display_name": "base",
   "language": "python",
   "name": "python3"
  },
  "language_info": {
   "codemirror_mode": {
    "name": "ipython",
    "version": 3
   },
   "file_extension": ".py",
   "mimetype": "text/x-python",
   "name": "python",
   "nbconvert_exporter": "python",
   "pygments_lexer": "ipython3",
   "version": "3.11.5"
  }
 },
 "nbformat": 4,
 "nbformat_minor": 2
}
