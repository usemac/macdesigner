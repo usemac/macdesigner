{
 "cells": [
  {
   "cell_type": "code",
   "execution_count": 2,
   "metadata": {},
   "outputs": [],
   "source": [
    "from macdesigner.macdesigner import spm_designer\n",
    "import numpy as np\n"
   ]
  },
  {
   "cell_type": "markdown",
   "metadata": {},
   "source": [
    "# Diseño de las dimensiones de la máquina\n",
    "\n",
    "Según {cite}`pellegrino16` el máximo par se puede aproximar como\n",
    "\n",
    "$$\n",
    "\\tau_e = 2 \\sigma V_r\n",
    "$$ (eq:tau_sigma)\n",
    "\n",
    "donde $V_r$ es el volumen del rotor, y $\\sigma$ es el esfuerzo de corte. En la siguiente tabla se pueden encontrar algunos valores típicos de $\\sigma$,\n",
    "\n",
    "![https://github.com/usemac/macdesigner/blob/b66698f9645cb6bd6490b52b69e229b76236d395/docs/figs/table_3p1_shear_stress.png](https://raw.githubusercontent.com/usemac/macdesigner/b66698f9645cb6bd6490b52b69e229b76236d395/docs/figs/table_3p1_shear_stress.png)\n",
    "\n",
    "\n",
    "Los parámetros de entrada pueden ser varios. Por ejemplo la potencia mecánica nominal ($P_n$) y la velocidad nominal ($\\Omega_n$), que se relacionan con el par ($T_n$) según:\n",
    "\n",
    "$$\n",
    "\\begin{aligned}\n",
    "P_n = \\Omega_n T_n\n",
    "\\end{aligned}\n",
    "$$\n",
    "\n",
    "En el siguiente ejemplo se supone que se conocen $P_n$ y $\\Omega_n$ con lo que se obtiene $T_n$. Si se supone un valor de $\\sigma$ típico, con {eq}`eq:tau_sigma`, se puede obtener un valor aproximado de volumen de rotor, $V_r$. \n",
    "\n",
    "Una vez obtenido el volumen se debe determinar el diámetro ($D_r$) y la longitud del rotor ($L_r$).\n",
    "\n",
    "$$\n",
    "V_r = L_r \\pi \\left(\\frac{D_r}{2}\\right)^2\n",
    "$$ (eq:Vr_L_D)\n",
    "\n",
    "En el ejemplo se supondrá que la longitud es conocida.\n",
    "\n"
   ]
  },
  {
   "cell_type": "code",
   "execution_count": 6,
   "metadata": {},
   "outputs": [
    {
     "name": "stdout",
     "output_type": "stream",
     "text": [
      "Par nominal: Tau_n = 65.00 Nm\n",
      "Rotor diameter: D_r = 0.158 m (15.84 cm)\n"
     ]
    }
   ],
   "source": [
    "P_n = 2*735.499 # Potencia nominal (W)\n",
    "Omega_n = 1800*2*np.pi/60 # velocidad nominal (rad/s)\n",
    "Tau_n = 65.0\n",
    "print(f'Par nominal: Tau_n = {Tau_n:0.2f} Nm')\n",
    "\n",
    "sigma = 15e3 # valor supuesto (Pa)\n",
    "V_r = Tau_n/(2*sigma) # volumen del rotor\n",
    "\n",
    "Length = 0.11 # Stack length (m), valor supuesto\n",
    "D_r = 2*np.sqrt(V_r/(np.pi*Length)) # V = L*pi*(D/2)**2\n",
    "\n",
    "print(f'Rotor diameter: D_r = {D_r:0.3f} m ({D_r*100:0.2f} cm)')"
   ]
  },
  {
   "cell_type": "code",
   "execution_count": 17,
   "metadata": {},
   "outputs": [
    {
     "name": "stdout",
     "output_type": "stream",
     "text": [
      "Par nominal: Tau_n = 3819718.63 Nm\n",
      "Rotor diameter: D_r = 8.335 m (833.53 cm)\n"
     ]
    }
   ],
   "source": [
    "P_n = 2e6 # Potencia nominal (W)\n",
    "Omega_n = 10*np.pi/60 # velocidad nominal (rad/s)\n",
    "Tau_n = P_n/Omega_n\n",
    "print(f'Par nominal: Tau_n = {Tau_n:0.2f} Nm')\n",
    "\n",
    "sigma = 35e3 # valor supuesto (Pa)\n",
    "V_r = Tau_n/(2*sigma) # volumen del rotor\n",
    "\n",
    "Length = 1.0 # Stack length (m), valor supuesto\n",
    "D_r = 2*np.sqrt(V_r/(np.pi*Length)) # V = L*pi*(D/2)**2\n",
    "\n",
    "print(f'Rotor diameter: D_r = {D_r:0.3f} m ({D_r*100:0.2f} cm)')"
   ]
  },
  {
   "cell_type": "code",
   "execution_count": 19,
   "metadata": {},
   "outputs": [
    {
     "name": "stdout",
     "output_type": "stream",
     "text": [
      "x = 0.800, b = 4.500\n",
      "L_m = 4.098844044838842, L_slot = 0.4523893421169302, L_tip = 0.2373536081640161\n",
      "I = 4763.45 A, PF = 0.748, T_e = 5512711.403 Nm\n",
      "R_r_ext = 3311.62 mm, R_s_ext = 4167.65 mm\n",
      "yoke l_y = 80.52 mm, slot l_t = 748.01 mm, slot w_t = 135.11 mm\n",
      "magnet l_m = 22.50 mm\n",
      "L_q = 4.79 mH, R_s = 0.007 Ohm,  A_slot = 122410.82 mm2\n",
      "r_c = 0.8962538517715488\n",
      "B_g_avg = 0.697 T, B_g_1 = 1.013 T, lambda_m = 25.718 Vs\n"
     ]
    }
   ],
   "source": [
    "spm = spm_designer(D_r,Length)\n",
    "spm.beta = 0.5\n",
    "spm.g = 5e-3\n",
    "spm.N_pp = 30\n",
    "spm.N_slots = 72\n",
    "spm.k_j = 9100.0\n",
    "spm.x = 0.8 # design factor  x = (R_r_int + l_m)/R_s_ext\n",
    "spm.b = 4.5 # design factor  b = l_m/g\n",
    "\n",
    "spm.design()\n",
    "\n",
    "spm.report_pellegrino()"
   ]
  },
  {
   "cell_type": "code",
   "execution_count": null,
   "metadata": {},
   "outputs": [],
   "source": []
  }
 ],
 "metadata": {
  "kernelspec": {
   "display_name": "base",
   "language": "python",
   "name": "python3"
  },
  "language_info": {
   "codemirror_mode": {
    "name": "ipython",
    "version": 3
   },
   "file_extension": ".py",
   "mimetype": "text/x-python",
   "name": "python",
   "nbconvert_exporter": "python",
   "pygments_lexer": "ipython3",
   "version": "3.11.5"
  }
 },
 "nbformat": 4,
 "nbformat_minor": 2
}
